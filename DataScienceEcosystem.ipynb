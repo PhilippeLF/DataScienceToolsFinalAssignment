{
 "cells": [
  {
   "cell_type": "markdown",
   "id": "d3dce9f3-98e9-40ad-9bf2-eee650d3e996",
   "metadata": {},
   "source": [
    "# Data Science Tools and Ecosystem"
   ]
  },
  {
   "cell_type": "markdown",
   "id": "53229406-49f1-4ded-b4dc-e4bdef421fa7",
   "metadata": {},
   "source": [
    "## In this notebook, Data Science Tools and Ecosystem are summarized"
   ]
  },
  {
   "cell_type": "markdown",
   "id": "3a28d49f-546a-4c1b-924a-ba80f9d7523c",
   "metadata": {},
   "source": [
    "### **Objectives:**\n",
    "- Popular languages used for data Science\n",
    "- Commonly used libraries in data Science\n",
    "- 3 examples of development environment open source tools\n",
    "- Some arithmetic expression examples"
   ]
  },
  {
   "cell_type": "markdown",
   "id": "9af7c360-652a-4ec1-b0b5-83327085bf02",
   "metadata": {},
   "source": [
    "### Some of the popular languages that Data Scientists use are:"
   ]
  },
  {
   "cell_type": "markdown",
   "id": "a87b216a-ac77-4dd6-bb30-7f43a2c9a612",
   "metadata": {},
   "source": [
    "1. R\n",
    "2. Python\n",
    "3. Java\n",
    "4. Scala"
   ]
  },
  {
   "cell_type": "markdown",
   "id": "75fb6a58-fdac-4427-a22f-7588dfc669d6",
   "metadata": {},
   "source": [
    "# Some of the commonly used libraries used by data Scientists include:\n",
    "1. Pandas\n",
    "2. Numpy\n",
    "3. Matplotlib\n",
    "4. Seaborn\n",
    "5. Keras\n"
   ]
  },
  {
   "cell_type": "markdown",
   "id": "3fcdbaf9-6f6e-4c9a-8b29-6a668bf2811b",
   "metadata": {},
   "source": [
    "| Data Science tools |\n",
    "|---|\n",
    "|JupyterLab|\n",
    "|JupyterLite|\n",
    "|RStudio|\n",
    "|Apache Zepellin|"
   ]
  },
  {
   "cell_type": "markdown",
   "id": "d0018e3b-6ccb-4c84-98db-4d998cef0e7a",
   "metadata": {},
   "source": [
    "### Below are a few examples of evaluating arithmetic expressions in Python"
   ]
  },
  {
   "cell_type": "markdown",
   "id": "2b45567c-d216-4b68-ae2d-352a767a55ae",
   "metadata": {},
   "source": [
    "#### This is a simple arithmetic expression to multiply then add integers"
   ]
  },
  {
   "cell_type": "code",
   "execution_count": 34,
   "id": "12ad5c6a-b0eb-4a8f-8499-be0b534daf3a",
   "metadata": {},
   "outputs": [
    {
     "data": {
      "text/plain": [
       "17"
      ]
     },
     "execution_count": 34,
     "metadata": {},
     "output_type": "execute_result"
    }
   ],
   "source": [
    "(3*4)+5"
   ]
  },
  {
   "cell_type": "markdown",
   "id": "e79ecdce-ee7d-48cc-b33f-a62ec655369f",
   "metadata": {},
   "source": [
    "#### This will convert 200 minutes to hours by dividing by 60"
   ]
  },
  {
   "cell_type": "code",
   "execution_count": 38,
   "id": "64e54bd1-ea85-4f73-9230-cc90472c2372",
   "metadata": {},
   "outputs": [
    {
     "data": {
      "text/plain": [
       "3.3333333333333335"
      ]
     },
     "execution_count": 38,
     "metadata": {},
     "output_type": "execute_result"
    }
   ],
   "source": [
    "200/60"
   ]
  },
  {
   "cell_type": "markdown",
   "id": "207a30cf-1f10-410e-b4e2-80ae37fbc377",
   "metadata": {},
   "source": [
    "## Author\n",
    "Philippe Le fur"
   ]
  },
  {
   "cell_type": "code",
   "execution_count": null,
   "id": "d6f9d1fe-4c96-45be-baf8-c7f026b42dcb",
   "metadata": {},
   "outputs": [],
   "source": []
  }
 ],
 "metadata": {
  "kernelspec": {
   "display_name": "anaconda-panel-2023.05-py310",
   "language": "python",
   "name": "conda-env-anaconda-panel-2023.05-py310-py"
  },
  "language_info": {
   "codemirror_mode": {
    "name": "ipython",
    "version": 3
   },
   "file_extension": ".py",
   "mimetype": "text/x-python",
   "name": "python",
   "nbconvert_exporter": "python",
   "pygments_lexer": "ipython3",
   "version": "3.11.5"
  }
 },
 "nbformat": 4,
 "nbformat_minor": 5
}
